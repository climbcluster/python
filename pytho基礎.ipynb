{
 "cells": [
  {
   "cell_type": "code",
   "execution_count": null,
   "metadata": {},
   "outputs": [],
   "source": [
    "#1.Hello Worldを出力してみよう"
   ]
  },
  {
   "cell_type": "code",
   "execution_count": 22,
   "metadata": {},
   "outputs": [
    {
     "name": "stdout",
     "output_type": "stream",
     "text": [
      "Hello World!\n"
     ]
    }
   ],
   "source": [
    "#Hello World!を出力\n",
    "print(\"Hello World!\")"
   ]
  },
  {
   "cell_type": "code",
   "execution_count": 1,
   "metadata": {},
   "outputs": [
    {
     "name": "stdout",
     "output_type": "stream",
     "text": [
      "python\n"
     ]
    }
   ],
   "source": [
    "#pythonを出力\n",
    "print(\"python\")"
   ]
  },
  {
   "cell_type": "code",
   "execution_count": null,
   "metadata": {},
   "outputs": [],
   "source": [
    "#2.変数の使い方"
   ]
  },
  {
   "cell_type": "code",
   "execution_count": 23,
   "metadata": {
    "scrolled": true
   },
   "outputs": [
    {
     "name": "stdout",
     "output_type": "stream",
     "text": [
      "100\n",
      "100 100\n",
      "100 円\n"
     ]
    }
   ],
   "source": [
    "n = 100\n",
    "print(n) \n",
    "print(n , n)\n",
    "print(n , \"円\")"
   ]
  },
  {
   "cell_type": "code",
   "execution_count": 8,
   "metadata": {},
   "outputs": [
    {
     "name": "stdout",
     "output_type": "stream",
     "text": [
      "5000 円\n"
     ]
    }
   ],
   "source": [
    "#5000円を出力(5000を宣言)\n",
    "n = 5000\n",
    "print(n,\"円\")"
   ]
  },
  {
   "cell_type": "code",
   "execution_count": 2,
   "metadata": {},
   "outputs": [
    {
     "name": "stdout",
     "output_type": "stream",
     "text": [
      "This is a pen\n"
     ]
    }
   ],
   "source": [
    "#変数 string = \"This is a pen\"を宣言\n",
    "#print(\"string\")を実行\n",
    "string = \"This is a pen\"\n",
    "print(string)"
   ]
  },
  {
   "cell_type": "code",
   "execution_count": 3,
   "metadata": {},
   "outputs": [
    {
     "name": "stdout",
     "output_type": "stream",
     "text": [
      "123456\n"
     ]
    }
   ],
   "source": [
    "#2変数(文字列)連結\n",
    "#a = \"123\" b = \"456\" を連結させて123456を出力\n",
    "a = \"123\"\n",
    "b = \"456\"\n",
    "print(a + b)"
   ]
  },
  {
   "cell_type": "code",
   "execution_count": 12,
   "metadata": {},
   "outputs": [
    {
     "name": "stdout",
     "output_type": "stream",
     "text": [
      "123123123123123123123123123123\n"
     ]
    }
   ],
   "source": [
    "#a = \"123\" を利用して「123」を10回繰り返し表示\n",
    "a = \"123\"\n",
    "print(a * 10)"
   ]
  },
  {
   "cell_type": "code",
   "execution_count": null,
   "metadata": {},
   "outputs": [],
   "source": [
    "#3.コメントの付け方"
   ]
  },
  {
   "cell_type": "code",
   "execution_count": 24,
   "metadata": {},
   "outputs": [
    {
     "name": "stdout",
     "output_type": "stream",
     "text": [
      "Hello World\n"
     ]
    }
   ],
   "source": [
    "# コメントの付け方\n",
    "#「＃」を文頭につけることで以降行末までがコメントアウト(実行されない)できる\n",
    "print(\"Hello World\")\n",
    "#print(\"Comment\")"
   ]
  },
  {
   "cell_type": "code",
   "execution_count": 25,
   "metadata": {},
   "outputs": [
    {
     "name": "stdout",
     "output_type": "stream",
     "text": [
      "B5\n"
     ]
    }
   ],
   "source": [
    "#B5だけ出力してみよう\n",
    "#print(\"A3\")\n",
    "#print(\"A4\")\n",
    "print(\"B5\")"
   ]
  },
  {
   "cell_type": "code",
   "execution_count": 26,
   "metadata": {},
   "outputs": [
    {
     "name": "stdout",
     "output_type": "stream",
     "text": [
      "a\n",
      "d\n"
     ]
    }
   ],
   "source": [
    "#コメントアウト(複数行)\n",
    "#'''で前後を挟むと行をまたいでコメントアウトされる\n",
    "print(\"a\")\n",
    "'''\n",
    "print(\"b\")\n",
    "print(\"c\")\n",
    "'''\n",
    "print(\"d\")"
   ]
  },
  {
   "cell_type": "code",
   "execution_count": null,
   "metadata": {},
   "outputs": [],
   "source": [
    "#4.データ型を理解しよう"
   ]
  },
  {
   "cell_type": "code",
   "execution_count": 32,
   "metadata": {
    "scrolled": true
   },
   "outputs": [
    {
     "name": "stdout",
     "output_type": "stream",
     "text": [
      "3\n",
      "<class 'int'>\n"
     ]
    }
   ],
   "source": [
    "#typeという関数で変数の型を調べられる\n",
    "#int型(整数)\n",
    "n = 3\n",
    "print(n)\n",
    "print(type(n))"
   ]
  },
  {
   "cell_type": "code",
   "execution_count": 34,
   "metadata": {},
   "outputs": [
    {
     "name": "stdout",
     "output_type": "stream",
     "text": [
      "3.0\n",
      "<class 'float'>\n"
     ]
    }
   ],
   "source": [
    "#float型(小数含む)\n",
    "n = 3.0\n",
    "print(n)\n",
    "print(type(n))"
   ]
  },
  {
   "cell_type": "code",
   "execution_count": 27,
   "metadata": {},
   "outputs": [
    {
     "name": "stdout",
     "output_type": "stream",
     "text": [
      "整数型 : 3\n",
      "小数型 : 3.14\n",
      "文字型 : 円周率\n",
      "円周率 は 3 ではなく 3.14\n"
     ]
    }
   ],
   "source": [
    "#データの理解\n",
    "n = 3\n",
    "pi = 3.14\n",
    "text = \"円周率\"\n",
    "\n",
    "print(\"整数型 :\" , n)\n",
    "print(\"小数型 :\" , pi)\n",
    "print(\"文字型 :\" , text )\n",
    "\n",
    "print(text , \"は\", n, \"ではなく\", pi)"
   ]
  },
  {
   "cell_type": "code",
   "execution_count": 35,
   "metadata": {},
   "outputs": [
    {
     "name": "stdout",
     "output_type": "stream",
     "text": [
      "3\n",
      "3.0\n"
     ]
    }
   ],
   "source": [
    "#int->float変換\n",
    "n = 3\n",
    "print(n)\n",
    "print(float(n))"
   ]
  },
  {
   "cell_type": "code",
   "execution_count": 37,
   "metadata": {},
   "outputs": [
    {
     "name": "stdout",
     "output_type": "stream",
     "text": [
      "3.0\n",
      "3\n"
     ]
    }
   ],
   "source": [
    "#float->int変換\n",
    "n = 3.0\n",
    "print(n)\n",
    "print(int(n))"
   ]
  },
  {
   "cell_type": "code",
   "execution_count": null,
   "metadata": {},
   "outputs": [],
   "source": [
    "#5.演算"
   ]
  },
  {
   "cell_type": "code",
   "execution_count": 15,
   "metadata": {},
   "outputs": [
    {
     "name": "stdout",
     "output_type": "stream",
     "text": [
      "1801\n"
     ]
    }
   ],
   "source": [
    "#変数を使った足し算\n",
    "#1234 + 567\n",
    "a = 1234\n",
    "b = 567\n",
    "print(a + b)"
   ]
  },
  {
   "cell_type": "code",
   "execution_count": 16,
   "metadata": {},
   "outputs": [
    {
     "name": "stdout",
     "output_type": "stream",
     "text": [
      "667\n"
     ]
    }
   ],
   "source": [
    "#変数を使った引き算\n",
    "#1234 - 567\n",
    "a = 1234\n",
    "b = 567\n",
    "print(a - b)"
   ]
  },
  {
   "cell_type": "code",
   "execution_count": 20,
   "metadata": {},
   "outputs": [
    {
     "name": "stdout",
     "output_type": "stream",
     "text": [
      "1234321\n",
      "1234321\n"
     ]
    }
   ],
   "source": [
    "#変数を使った掛け算\n",
    "#1111 * 1111\n",
    "a = 1111\n",
    "print(a * a)\n",
    "#乗数\n",
    "print(a**2)"
   ]
  },
  {
   "cell_type": "code",
   "execution_count": 18,
   "metadata": {
    "scrolled": true
   },
   "outputs": [
    {
     "name": "stdout",
     "output_type": "stream",
     "text": [
      "1511.0\n"
     ]
    }
   ],
   "source": [
    "#変数を使った割り算\n",
    "#4533 / 3\n",
    "a = 4533\n",
    "b = 3\n",
    "print(a / b)"
   ]
  },
  {
   "cell_type": "code",
   "execution_count": 30,
   "metadata": {},
   "outputs": [
    {
     "name": "stdout",
     "output_type": "stream",
     "text": [
      "50.0\n"
     ]
    }
   ],
   "source": [
    "#四則演算\n",
    "#「7+7÷7+7×7-7」を計算してみよう\n",
    "n = 7\n",
    "print(7+7/7+7*7-7)"
   ]
  },
  {
   "cell_type": "code",
   "execution_count": 42,
   "metadata": {},
   "outputs": [
    {
     "name": "stdout",
     "output_type": "stream",
     "text": [
      "3.3333333333333335\n",
      "3.3333333333333335\n"
     ]
    }
   ],
   "source": [
    "#int型とfloat型の計算\n",
    "a = 10\n",
    "b = 3.0\n",
    "print(a/b)\n",
    "c = 10.0\n",
    "d = 3\n",
    "print(c/d)"
   ]
  },
  {
   "cell_type": "code",
   "execution_count": 29,
   "metadata": {},
   "outputs": [
    {
     "name": "stdout",
     "output_type": "stream",
     "text": [
      "100 を 3 で割ると 33 と余り 1 です\n"
     ]
    }
   ],
   "source": [
    "#「100を3で割ると33と余り1です」を出力\n",
    "a = 100\n",
    "b = 3\n",
    "print(a,\"を\",b,\"で割ると\",int(a/b),\"と余り\",a%b,\"です\")"
   ]
  },
  {
   "cell_type": "code",
   "execution_count": null,
   "metadata": {},
   "outputs": [],
   "source": [
    "#6.if文"
   ]
  },
  {
   "cell_type": "code",
   "execution_count": 43,
   "metadata": {},
   "outputs": [
    {
     "name": "stdout",
     "output_type": "stream",
     "text": [
      "お酒は20歳になってから！\n"
     ]
    }
   ],
   "source": [
    "# ageは年齢\n",
    "age = 18\n",
    "\n",
    "if age < 20 :\n",
    "    print(\"お酒は20歳になってから！\")\n",
    "else :\n",
    "    print(\"お酒飲めるよ！\")"
   ]
  },
  {
   "cell_type": "code",
   "execution_count": 44,
   "metadata": {},
   "outputs": [
    {
     "name": "stdout",
     "output_type": "stream",
     "text": [
      "進級出来た\n"
     ]
    }
   ],
   "source": [
    "#進級ができかたか確認してみよう\n",
    "# unitは単位数\n",
    "unit = 30 \n",
    "\n",
    "# if文(条件分岐)\n",
    "if unit < 25 :\n",
    "    print(\"進級出来ません\")\n",
    "else :\n",
    "    print(\"進級出来た\")"
   ]
  },
  {
   "cell_type": "code",
   "execution_count": null,
   "metadata": {},
   "outputs": [],
   "source": [
    "#7.ループ処理 for文"
   ]
  },
  {
   "cell_type": "code",
   "execution_count": 45,
   "metadata": {},
   "outputs": [
    {
     "name": "stdout",
     "output_type": "stream",
     "text": [
      "0\n",
      "1\n",
      "2\n",
      "3\n",
      "4\n"
     ]
    }
   ],
   "source": [
    "#for文 0~4の5つの数字を順番にprintする\n",
    "for i in range(5) :\n",
    "    print(i)\n"
   ]
  },
  {
   "cell_type": "code",
   "execution_count": 61,
   "metadata": {
    "scrolled": true
   },
   "outputs": [
    {
     "name": "stdout",
     "output_type": "stream",
     "text": [
      "5\n",
      "6\n",
      "7\n",
      "8\n",
      "9\n"
     ]
    }
   ],
   "source": [
    "#指定範囲の数字を書き出す(5~9)\n",
    "for i in range(5,10) :\n",
    "    print(i)"
   ]
  },
  {
   "cell_type": "code",
   "execution_count": 64,
   "metadata": {},
   "outputs": [
    {
     "name": "stdout",
     "output_type": "stream",
     "text": [
      "0\n",
      "1\n",
      "2\n",
      "3\n",
      "4\n",
      "5\n",
      "6\n",
      "7\n",
      "8\n",
      "9\n",
      "10\n"
     ]
    }
   ],
   "source": [
    "#for文で決めた値でbreakさせる\n",
    "for num in range(20):\n",
    "    print(num)\n",
    "    if num == 10:\n",
    "        break"
   ]
  },
  {
   "cell_type": "code",
   "execution_count": 60,
   "metadata": {},
   "outputs": [
    {
     "name": "stdout",
     "output_type": "stream",
     "text": [
      "\n",
      "*\n",
      "**\n",
      "***\n",
      "****\n",
      "*****\n",
      "******\n",
      "*******\n",
      "********\n",
      "*********\n"
     ]
    }
   ],
   "source": [
    "'''\n",
    "for文を使って\n",
    "*\n",
    "**\n",
    "***\n",
    "****\n",
    "*****\n",
    "******\n",
    "*******\n",
    "********\n",
    "*********\n",
    "を表示\n",
    "'''\n",
    "for i in range(10):\n",
    "    print(\"*\"*i)"
   ]
  },
  {
   "cell_type": "code",
   "execution_count": null,
   "metadata": {},
   "outputs": [],
   "source": [
    "#8.ループ処理 while文"
   ]
  },
  {
   "cell_type": "code",
   "execution_count": 65,
   "metadata": {},
   "outputs": [
    {
     "name": "stdout",
     "output_type": "stream",
     "text": [
      "0\n",
      "1\n",
      "2\n",
      "3\n",
      "4\n"
     ]
    }
   ],
   "source": [
    "#while文 0からiが5になるまでカウントアップし表示\n",
    "i = 0\n",
    "while i < 5:\n",
    "    print(i)  \n",
    "    i = i + 1"
   ]
  },
  {
   "cell_type": "code",
   "execution_count": 79,
   "metadata": {},
   "outputs": [
    {
     "name": "stdout",
     "output_type": "stream",
     "text": [
      "計算開始\n",
      "計算終了\n",
      "1~10を足し合わせた数は 55 です\n"
     ]
    }
   ],
   "source": [
    "#while文を使って1~10の数字を足し合わせてみる\n",
    "print(\"計算開始\")\n",
    "i = 1\n",
    "sum = 0\n",
    "while i < 11:\n",
    "    sum = sum + i  \n",
    "    i = i + 1\n",
    "    #print(sum)     #確認用\n",
    "print(\"計算終了\")\n",
    "print(\"1~10を足し合わせた数は\",sum,\"です\")"
   ]
  },
  {
   "cell_type": "code",
   "execution_count": 74,
   "metadata": {},
   "outputs": [
    {
     "name": "stdout",
     "output_type": "stream",
     "text": [
      "リンゴの値段は 100 円です\n",
      "80\n",
      "300\n"
     ]
    }
   ],
   "source": [
    "#9.辞書\n",
    "#フルーツの値段をまとめて変数fruitsにフルーツの名前と値を格納\n",
    "fruits = {\"apple\": 100, \"orange\": 80, \"melon\": 300}\n",
    "\n",
    "print(\"リンゴの値段は\",fruits[\"apple\"],\"円です\")\n",
    "print(fruits[\"orange\"])\n",
    "print(fruits[\"melon\"])"
   ]
  },
  {
   "cell_type": "code",
   "execution_count": 78,
   "metadata": {},
   "outputs": [
    {
     "name": "stdout",
     "output_type": "stream",
     "text": [
      "アメリカの当て字は 亜米利加 です\n"
     ]
    }
   ],
   "source": [
    "#国名と当て字を格納する辞書を作成\n",
    "countries = {\"アメリカ\": \"亜米利加\", \"キューバ\": \"玖馬\"}\n",
    "print(\"アメリカの当て字は\",countries[\"アメリカ\"],\"です\")\n",
    "#キューバの漢字を表示してみよう\n",
    "#辞書に他の国も追加してみよう"
   ]
  },
  {
   "cell_type": "code",
   "execution_count": 59,
   "metadata": {},
   "outputs": [
    {
     "name": "stdout",
     "output_type": "stream",
     "text": [
      "          \n",
      "         *\n",
      "        **\n",
      "       ***\n",
      "      ****\n",
      "     *****\n",
      "    ******\n",
      "   *******\n",
      "  ********\n",
      " *********\n"
     ]
    }
   ],
   "source": [
    "#番外編\n",
    "'''\n",
    "for文を使って\n",
    "         *\n",
    "        **\n",
    "       ***\n",
    "      ****\n",
    "     *****\n",
    "    ******\n",
    "   *******\n",
    "  ********\n",
    " *********\n",
    "を表示 \n",
    "'''\n",
    "for i in range(10):\n",
    "    print(\" \"*int(10-i)+\"*\"*i)"
   ]
  },
  {
   "cell_type": "code",
   "execution_count": null,
   "metadata": {},
   "outputs": [],
   "source": []
  }
 ],
 "metadata": {
  "kernelspec": {
   "display_name": "Python 3",
   "language": "python",
   "name": "python3"
  },
  "language_info": {
   "codemirror_mode": {
    "name": "ipython",
    "version": 3
   },
   "file_extension": ".py",
   "mimetype": "text/x-python",
   "name": "python",
   "nbconvert_exporter": "python",
   "pygments_lexer": "ipython3",
   "version": "3.7.6"
  }
 },
 "nbformat": 4,
 "nbformat_minor": 4
}
